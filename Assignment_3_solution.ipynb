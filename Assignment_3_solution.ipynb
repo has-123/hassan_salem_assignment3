{
  "cells": [
    {
      "cell_type": "markdown",
      "metadata": {
        "id": "xURHHAHR3f9Z"
      },
      "source": [
        "# Assignment 3"
      ]
    },
    {
      "cell_type": "markdown",
      "metadata": {
        "id": "0vgYp7s03f9e"
      },
      "source": [
        "### Write a function to count the number 4 in a given list."
      ]
    },
    {
      "cell_type": "code",
      "execution_count": 29,
      "metadata": {
        "collapsed": true,
        "colab": {
          "base_uri": "https://localhost:8080/"
        },
        "id": "PIo2COSa3f9g",
        "outputId": "0cfd6c34-459b-4b3a-8f38-1f219a0be6b5"
      },
      "outputs": [
        {
          "output_type": "stream",
          "name": "stdout",
          "text": [
            "8 has occurred 5 times\n"
          ]
        }
      ],
      "source": [
        "\n",
        "# Python code to count the number of occurrences\n",
        "def countX(lst, x):\n",
        "    count = 0\n",
        "    for ele in lst:\n",
        "        if (ele == x):\n",
        "            count = count + 1\n",
        "    return count\n",
        " \n",
        "# Driver Code\n",
        "lst = [8, 6, 8, 10, 8, 20, 10, 8, 8]\n",
        "x = 8\n",
        "print('{} has occurred {} times'.format(x, countX(lst, x)))"
      ]
    },
    {
      "cell_type": "markdown",
      "metadata": {
        "id": "Ov0IkU943f9h"
      },
      "source": [
        "### write a  function to check whether a number is divisible by another number.\n",
        "\n",
        "> Indented block\n",
        "\n"
      ]
    },
    {
      "cell_type": "code",
      "execution_count": 38,
      "metadata": {
        "collapsed": true,
        "colab": {
          "base_uri": "https://localhost:8080/"
        },
        "id": "-GJIjIjm3f9i",
        "outputId": "4ba7f2db-2654-4836-83d5-3f8902c8a46a"
      },
      "outputs": [
        {
          "output_type": "stream",
          "name": "stdout",
          "text": [
            "a number is not divisible by another number.\n"
          ]
        }
      ],
      "source": [
        "def divisible(x, y):\n",
        "  if (x % y == 0):\n",
        "      print(\"a number is divisible by another number.\")\n",
        "  else :\n",
        "        print(\"a number is not divisible by another number.\")\n",
        "        return\n",
        "x = 7\n",
        "y = 5\n",
        "divisible(x, y)"
      ]
    },
    {
      "cell_type": "markdown",
      "source": [
        "### OR"
      ],
      "metadata": {
        "id": "AtHuiaXJMwvv"
      }
    },
    {
      "cell_type": "code",
      "source": [
        "def multiple(m, n):\n",
        "\treturn True if m % n == 0 else False\n",
        "\n",
        "print(multiple(20, 5))\n",
        "print(multiple(7, 2))"
      ],
      "metadata": {
        "colab": {
          "base_uri": "https://localhost:8080/"
        },
        "id": "agLHdYSuM3CX",
        "outputId": "54d5c487-1699-440c-c4fc-8df522785f5c"
      },
      "execution_count": 39,
      "outputs": [
        {
          "output_type": "stream",
          "name": "stdout",
          "text": [
            "True\n",
            "False\n"
          ]
        }
      ]
    },
    {
      "cell_type": "markdown",
      "metadata": {
        "id": "_s51WNfn3f9i"
      },
      "source": [
        "### write a function to find the maximum and minimum numbers from a sequence of numbers."
      ]
    },
    {
      "cell_type": "code",
      "execution_count": 50,
      "metadata": {
        "collapsed": true,
        "colab": {
          "base_uri": "https://localhost:8080/"
        },
        "id": "QrpFOeUw3f9j",
        "outputId": "f290b5b9-0af8-4e9c-8639-9d9cd8d65d70"
      },
      "outputs": [
        {
          "output_type": "stream",
          "name": "stdout",
          "text": [
            "0 0\n",
            "0 0\n",
            "10 0\n",
            "15 0\n",
            "40 0\n",
            "40 -5\n",
            "42 -5\n",
            "42 -5\n",
            "42 -5\n",
            "(75, -5)\n"
          ]
        }
      ],
      "source": [
        "def max_min(data):\n",
        "  l = data[0]\n",
        "  s = data[0]\n",
        "  for num in data:\n",
        "    print(l,s)\n",
        "    if num> l:\n",
        "      l = num\n",
        "    elif num< s:\n",
        "        s = num\n",
        "  return l, s\n",
        "\n",
        "\n",
        "print(max_min([0, 10, 15, 40, -5, 42, 17, 28, 75]))"
      ]
    },
    {
      "cell_type": "markdown",
      "metadata": {
        "id": "9eXIj92A3f9k"
      },
      "source": [
        "### Write a Python function that takes two lists and returns True if they have at least one common member."
      ]
    },
    {
      "cell_type": "code",
      "execution_count": 56,
      "metadata": {
        "collapsed": true,
        "colab": {
          "base_uri": "https://localhost:8080/"
        },
        "id": "EXkd65Lu3f9l",
        "outputId": "1a956d2c-6a55-45a2-fb4f-2d478a458279"
      },
      "outputs": [
        {
          "output_type": "stream",
          "name": "stdout",
          "text": [
            "[1, 5]\n",
            "[1, 6]\n",
            "[1, 7]\n",
            "[1, 8]\n",
            "[1, 9]\n",
            "[2, 5]\n",
            "[2, 6]\n",
            "[2, 7]\n",
            "[2, 8]\n",
            "[2, 9]\n",
            "[3, 5]\n",
            "[3, 6]\n",
            "[3, 7]\n",
            "[3, 8]\n",
            "[3, 9]\n",
            "[4, 5]\n",
            "[4, 6]\n",
            "[4, 7]\n",
            "[4, 8]\n",
            "[4, 9]\n",
            "[5, 5]\n",
            "True\n",
            "[1, 6]\n",
            "[1, 7]\n",
            "[1, 8]\n",
            "[1, 9]\n",
            "[2, 6]\n",
            "[2, 7]\n",
            "[2, 8]\n",
            "[2, 9]\n",
            "[3, 6]\n",
            "[3, 7]\n",
            "[3, 8]\n",
            "[3, 9]\n",
            "[4, 6]\n",
            "[4, 7]\n",
            "[4, 8]\n",
            "[4, 9]\n",
            "[5, 6]\n",
            "[5, 7]\n",
            "[5, 8]\n",
            "[5, 9]\n",
            "None\n"
          ]
        }
      ],
      "source": [
        "def common_data(list1, list2):\n",
        "     result = False\n",
        "     for x in list1:\n",
        "         for y in list2:\n",
        "           print([x, y])\n",
        "           if x == y:\n",
        "                 result = True\n",
        "                 return result\n",
        "print(common_data([1,2,3,4,5], [5,6,7,8,9]))\n",
        "print(common_data([1,2,3,4,5], [6,7,8,9]))"
      ]
    },
    {
      "cell_type": "markdown",
      "metadata": {
        "id": "QVSAHTOv3f9m"
      },
      "source": [
        "### Write a Python function to calculate the factorial of a number (a non-negative integer). The function accepts the number from the user"
      ]
    },
    {
      "cell_type": "code",
      "execution_count": 57,
      "metadata": {
        "collapsed": true,
        "colab": {
          "base_uri": "https://localhost:8080/"
        },
        "id": "W1GlPkGm3f9n",
        "outputId": "3facbbc3-a39f-4554-a30f-6c418dd6f99c"
      },
      "outputs": [
        {
          "output_type": "stream",
          "name": "stdout",
          "text": [
            "Input a number to compute the factiorial : 9\n",
            "362880\n"
          ]
        }
      ],
      "source": [
        "def factorial(n):\n",
        "    if n == 0:\n",
        "        return 1\n",
        "    else:\n",
        "        return n * factorial(n-1)\n",
        "n=int(input(\"Input a number to compute the factiorial : \"))\n",
        "print(factorial(n))"
      ]
    },
    {
      "cell_type": "markdown",
      "metadata": {
        "id": "qKUYfDk_3f9o"
      },
      "source": [
        "### Write a Python function to check whether a number is in a given range.\n",
        "\n",
        "### The range is from 3 to 11\n"
      ]
    },
    {
      "cell_type": "code",
      "execution_count": 92,
      "metadata": {
        "collapsed": true,
        "colab": {
          "base_uri": "https://localhost:8080/"
        },
        "id": "gWCi0vMV3f9p",
        "outputId": "cdd7b3fb-a94c-4ffb-f8cd-32840f20d3f6"
      },
      "outputs": [
        {
          "output_type": "stream",
          "name": "stdout",
          "text": [
            "1 False\n",
            "2 False\n",
            "33 False\n",
            "4 True\n",
            "7 True\n",
            "23 False\n",
            "5 True\n"
          ]
        }
      ],
      "source": [
        "def range_x(Xlst):\n",
        "    result = False\n",
        "    for i in Xlst :\n",
        "      \n",
        "      if ((i > 2) and (i < 12)):\n",
        "          result = True\n",
        "          print(i, result)\n",
        "      else:\n",
        "            result = False \n",
        "            print(i, result)   \n",
        "\n",
        "    return \n",
        "\n",
        "range_x([1, 2, 33, 4, 7, 23, 5])\n"
      ]
    },
    {
      "cell_type": "markdown",
      "metadata": {
        "id": "u2bODgWm3f9q"
      },
      "source": [
        "### Write a  program to create the multiplication table (from 1 to 10) of a number."
      ]
    },
    {
      "cell_type": "code",
      "execution_count": 93,
      "metadata": {
        "collapsed": true,
        "colab": {
          "base_uri": "https://localhost:8080/"
        },
        "id": "QwbdvwHD3f9q",
        "outputId": "b623b85f-896d-4764-c55d-a2d0750d1f93"
      },
      "outputs": [
        {
          "output_type": "stream",
          "name": "stdout",
          "text": [
            "Input a number: 8\n",
            "8 x 1 = 8\n",
            "8 x 2 = 16\n",
            "8 x 3 = 24\n",
            "8 x 4 = 32\n",
            "8 x 5 = 40\n",
            "8 x 6 = 48\n",
            "8 x 7 = 56\n",
            "8 x 8 = 64\n",
            "8 x 9 = 72\n",
            "8 x 10 = 80\n"
          ]
        }
      ],
      "source": [
        "n = int(input(\"Input a number: \"))\n",
        "\n",
        "# use for loop to iterate 10 times\n",
        "for i in range(1,11):\n",
        "   print(n,'x',i,'=',n*i)"
      ]
    },
    {
      "cell_type": "markdown",
      "metadata": {
        "id": "sZbIWGSy3f9r"
      },
      "source": [
        "#### LESSER OF TWO EVENS: Write a function that returns the lesser of two given numbers *if* both numbers are even, but returns the greater if one or both numbers are odd\n",
        "    lesser_of_two_evens(2,4) --> 2\n",
        "    lesser_of_two_evens(2,5) --> 5"
      ]
    },
    {
      "cell_type": "code",
      "source": [
        "def lesser_of_two_evens(a,b):\n",
        "    if (a % 2 == 0 and b % 2 ==0) :\n",
        "        if b < a:\n",
        "            print(b)\n",
        "            \n",
        "        else :\n",
        "            print(a) \n",
        "              \n",
        "    elif(a % 2 == 0 or b % 2 ==0 ):\n",
        "        if a > b:\n",
        "            print(a)\n",
        "        else:\n",
        "            print(b)  \n",
        "            \n",
        "lesser_of_two_evens(2,4)\n",
        "lesser_of_two_evens(2,5)"
      ],
      "metadata": {
        "colab": {
          "base_uri": "https://localhost:8080/"
        },
        "id": "xqVRvZ5K6FXO",
        "outputId": "3ae9a464-1de5-4325-cdbd-00d9e7c69d6d"
      },
      "execution_count": 123,
      "outputs": [
        {
          "output_type": "stream",
          "name": "stdout",
          "text": [
            "2\n",
            "5\n"
          ]
        }
      ]
    },
    {
      "cell_type": "markdown",
      "metadata": {
        "id": "w9WDlPut3f9s"
      },
      "source": [
        "#### ANIMAL CRACKERS: Write a function takes a two-word string and returns True \n",
        "\n",
        "1.   List item\n",
        "2.   List item\n",
        "\n",
        "if both words begin with same letter\n",
        "    animal_crackers('Levelheaded Llama') --> True\n",
        "    animal_crackers('Crazy Kangaroo') --> False"
      ]
    },
    {
      "cell_type": "code",
      "execution_count": 130,
      "metadata": {
        "colab": {
          "base_uri": "https://localhost:8080/"
        },
        "id": "aogioVm43f9t",
        "outputId": "f3589046-5021-4aa1-e620-76ba193ce449"
      },
      "outputs": [
        {
          "output_type": "stream",
          "name": "stdout",
          "text": [
            "True\n"
          ]
        }
      ],
      "source": [
        "def animal_crackers(text):\n",
        "    wordlist = text.split()\n",
        "    if wordlist[0][0] == wordlist[1][0]:\n",
        "      print(True)\n",
        "    else:\n",
        "      print(False)\n",
        "\n",
        "animal_crackers('Levelheaded Llama')"
      ]
    },
    {
      "cell_type": "code",
      "source": [
        "animal_crackers('Crazy Kangaroo')"
      ],
      "metadata": {
        "colab": {
          "base_uri": "https://localhost:8080/"
        },
        "id": "eQysjqXPAJ-_",
        "outputId": "31b386a5-2ae9-4b48-baab-e9154ab14c95"
      },
      "execution_count": 131,
      "outputs": [
        {
          "output_type": "stream",
          "name": "stdout",
          "text": [
            "False\n"
          ]
        }
      ]
    },
    {
      "cell_type": "markdown",
      "metadata": {
        "id": "wb75q-Gp3f9t"
      },
      "source": [
        "#### MAKES TWENTY: Given two integers, return True if the sum of the integers is 20 *or* if one of the integers is 20. If not, return False\n",
        "\n",
        "    makes_twenty(20,10) --> True\n",
        "    makes_twenty(12,8) --> True\n",
        "    makes_twenty(2,3) --> False"
      ]
    },
    {
      "cell_type": "code",
      "execution_count": 136,
      "metadata": {
        "colab": {
          "base_uri": "https://localhost:8080/"
        },
        "id": "vfN7YEyL3f9u",
        "outputId": "49d18d55-85ae-4f90-81ac-95d09f838279"
      },
      "outputs": [
        {
          "output_type": "stream",
          "name": "stdout",
          "text": [
            "True\n"
          ]
        }
      ],
      "source": [
        "def makes_twenty(n1,n2):\n",
        "  if((n1+n2)==20 or n1==20 or n2==20):\n",
        "    print(True)\n",
        "  else:\n",
        "      print(False)\n",
        "  \n",
        "makes_twenty(20,10)"
      ]
    },
    {
      "cell_type": "code",
      "source": [
        "makes_twenty(12,8)"
      ],
      "metadata": {
        "colab": {
          "base_uri": "https://localhost:8080/"
        },
        "id": "XsFbdp34B2An",
        "outputId": "2e0f60cc-d7a3-4362-bbbd-08e00d954f7b"
      },
      "execution_count": 137,
      "outputs": [
        {
          "output_type": "stream",
          "name": "stdout",
          "text": [
            "True\n"
          ]
        }
      ]
    },
    {
      "cell_type": "code",
      "source": [
        "makes_twenty(2,3)"
      ],
      "metadata": {
        "colab": {
          "base_uri": "https://localhost:8080/"
        },
        "id": "fuaYh-JcB-Q2",
        "outputId": "9d8374bd-915b-470a-9ab9-405837a23df4"
      },
      "execution_count": 138,
      "outputs": [
        {
          "output_type": "stream",
          "name": "stdout",
          "text": [
            "False\n"
          ]
        }
      ]
    },
    {
      "cell_type": "markdown",
      "metadata": {
        "id": "Qeu5BYfh3f9v"
      },
      "source": [
        "#### ALMOST THERE: Given an integer n, return True if n is within 10 of either 100 or 200\n",
        "\n",
        "    almost_there(90) --> True\n",
        "    almost_there(104) --> True\n",
        "    almost_there(150) --> False\n",
        "    almost_there(209) --> True\n",
        "    \n",
        "NOTE: `abs(num)` returns the absolute value of a number"
      ]
    },
    {
      "cell_type": "code",
      "execution_count": 139,
      "metadata": {
        "colab": {
          "base_uri": "https://localhost:8080/"
        },
        "id": "WbpW1RxW3f9v",
        "outputId": "d26d0cd0-972c-4266-835d-602d7ea214df"
      },
      "outputs": [
        {
          "output_type": "stream",
          "name": "stdout",
          "text": [
            "True\n"
          ]
        }
      ],
      "source": [
        "def almost_there(n):\n",
        "    if((abs(100 - n) <= 10) or (abs(200 - n) <= 10)):\n",
        "      print(True)\n",
        "    else:\n",
        "      print(False)\n",
        "almost_there(90)"
      ]
    },
    {
      "cell_type": "code",
      "source": [
        "almost_there(104)"
      ],
      "metadata": {
        "colab": {
          "base_uri": "https://localhost:8080/"
        },
        "id": "DSdSOUrkGlcD",
        "outputId": "92bbd6dc-8f0d-4fb8-fb85-9f04a7b8d42a"
      },
      "execution_count": 140,
      "outputs": [
        {
          "output_type": "stream",
          "name": "stdout",
          "text": [
            "True\n"
          ]
        }
      ]
    },
    {
      "cell_type": "code",
      "source": [
        "almost_there(150)"
      ],
      "metadata": {
        "colab": {
          "base_uri": "https://localhost:8080/"
        },
        "id": "P5Sy3CMeGtJf",
        "outputId": "485186aa-151d-4d1a-a4f9-cad5f095e3e7"
      },
      "execution_count": 141,
      "outputs": [
        {
          "output_type": "stream",
          "name": "stdout",
          "text": [
            "False\n"
          ]
        }
      ]
    },
    {
      "cell_type": "code",
      "source": [
        "almost_there(209)"
      ],
      "metadata": {
        "colab": {
          "base_uri": "https://localhost:8080/"
        },
        "id": "peek86GKG1Dh",
        "outputId": "e724b26f-1506-4a69-e023-94c1b7d357f1"
      },
      "execution_count": 142,
      "outputs": [
        {
          "output_type": "stream",
          "name": "stdout",
          "text": [
            "True\n"
          ]
        }
      ]
    },
    {
      "cell_type": "markdown",
      "metadata": {
        "id": "evVJH_dp3f9w"
      },
      "source": [
        "#### BLACKJACK: Given three integers between 1 and 11, if their sum is less than or equal to 21, return their sum. If their sum exceeds 21 *and* there's an eleven, reduce the total sum by 10. Finally, if the sum  exceeds 21, return 'BUST'\n",
        "    blackjack(5,6,7) --> 18\n",
        "    blackjack(9,9,9) --> 'BUST'\n",
        "    blackjack(9,9,11) --> 19"
      ]
    },
    {
      "cell_type": "code",
      "source": [
        "def blackjack(a,b,c):\n",
        "    #sum(a,b,c) = float (a + b + c)\n",
        "    if sum((a,b,c)) <= 21:\n",
        "       return print(sum((a,b,c)))\n",
        "    elif sum((a,b,c)) <=31 and 11 in (a,b,c):\n",
        "       return print(sum((a,b,c)) - 10)\n",
        "    else:\n",
        "       return print('BUST')\n",
        "blackjack(5,6,7)"
      ],
      "metadata": {
        "colab": {
          "base_uri": "https://localhost:8080/"
        },
        "id": "5IAzcBMMOIha",
        "outputId": "5cd92c9b-204d-4837-c770-81fac6922011"
      },
      "execution_count": 165,
      "outputs": [
        {
          "output_type": "stream",
          "name": "stdout",
          "text": [
            "18\n"
          ]
        }
      ]
    },
    {
      "cell_type": "code",
      "source": [
        "blackjack(9,9,9)"
      ],
      "metadata": {
        "colab": {
          "base_uri": "https://localhost:8080/"
        },
        "id": "NFe1d8_TOoDh",
        "outputId": "ed323b06-b134-4372-d55f-b569cb9d2568"
      },
      "execution_count": 166,
      "outputs": [
        {
          "output_type": "stream",
          "name": "stdout",
          "text": [
            "BUST\n"
          ]
        }
      ]
    },
    {
      "cell_type": "code",
      "source": [
        "blackjack(9,9,11)"
      ],
      "metadata": {
        "colab": {
          "base_uri": "https://localhost:8080/"
        },
        "id": "ab5w7t96Ovju",
        "outputId": "337138ca-64d6-4b93-871a-4cfd59f735f9"
      },
      "execution_count": 167,
      "outputs": [
        {
          "output_type": "stream",
          "name": "stdout",
          "text": [
            "19\n"
          ]
        }
      ]
    },
    {
      "cell_type": "code",
      "source": [
        ""
      ],
      "metadata": {
        "id": "1jAZKpZyKtrH"
      },
      "execution_count": null,
      "outputs": []
    }
  ],
  "metadata": {
    "kernelspec": {
      "display_name": "Python 3",
      "language": "python",
      "name": "python3"
    },
    "language_info": {
      "codemirror_mode": {
        "name": "ipython",
        "version": 3
      },
      "file_extension": ".py",
      "mimetype": "text/x-python",
      "name": "python",
      "nbconvert_exporter": "python",
      "pygments_lexer": "ipython3",
      "version": "3.8.5"
    },
    "colab": {
      "name": "Assignment 3_solution.ipynb",
      "provenance": [],
      "collapsed_sections": []
    }
  },
  "nbformat": 4,
  "nbformat_minor": 0
}